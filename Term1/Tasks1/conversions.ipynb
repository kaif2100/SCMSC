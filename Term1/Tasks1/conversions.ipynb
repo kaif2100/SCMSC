{
 "cells": [
  {
   "cell_type": "code",
   "execution_count": 1,
   "metadata": {},
   "outputs": [],
   "source": [
    "import numpy as np\n",
    "import constants"
   ]
  },
  {
   "cell_type": "code",
   "execution_count": 111,
   "metadata": {},
   "outputs": [],
   "source": [
    "def Kepler2Cartesian(i, W, w, e, p, v, mu = constants.muE):\n",
    "    # ALL ANGLES MUST BE IN RADIANS\n",
    "    # i - inclination; W - longitude of the ascending node; w - argument of periapsis;\n",
    "    # p - focal parameter; v - true anomaly; e - eccentricity\n",
    "    # mu - standart gravitational parameter. Earths by default\n",
    "    # Returns numpy.ndarray with shape (6,) that contains [x, y, z, Vx, Vy, Vz] in SI\n",
    "    # Calculation are carried out according to Okhotsimsky \"Basics of space flight mechanics\" 1990, p. 101-102\n",
    "    # To do: assess accuracy\n",
    "    result = np.empty(6)\n",
    "    r = p / (1 + e * np.cos(v))\n",
    "    Vr = np.sqrt(mu / p) * e * np.sin(v)\n",
    "    Vn = np.sqrt(mu / p) * (1 + e * np.cos(v))\n",
    "    u = w + v\n",
    "    rx = np.cos(u) * np.cos(W) - np.cos(i) * np.sin(u) * np.sin(W)\n",
    "    ry = np.cos(u) * np.sin(W) + np.cos(i) * np.sin(u) * np.cos(W)\n",
    "    rz = np.sin(i) * np.sin(u)\n",
    "    nx = -np.sin(u) * np.cos(W) - np.cos(i) * np.cos(u) * np.sin(W)\n",
    "    ny = -np.sin(u) * np.sin(W) + np.cos(i) * np.cos(u) * np.cos(W)\n",
    "    nz = np.sin(i) * np.cos(u)\n",
    "    \n",
    "    result[0] = r * rx\n",
    "    result[1] = r * ry\n",
    "    result[2] = r * rz\n",
    "    result[3] = Vr * rx + Vn * nx\n",
    "    result[4] = Vr * ry + Vn * ny\n",
    "    result[5] = Vr * rz + Vn * nz\n",
    "    \n",
    "    return result"
   ]
  },
  {
   "cell_type": "code",
   "execution_count": 115,
   "metadata": {},
   "outputs": [],
   "source": [
    "def Cartesian2Kepler(x, y, z, Vx, Vy, Vz, t = 0, mu = constants.muE):\n",
    "    # Everything have to be in SI\n",
    "    # x, y, z, Vx, Vy, Vz - components of phase vector in INERTIONAL frame\n",
    "    # t - time of measurment\n",
    "    # mu - standart gravitational parameter. Earths by default\n",
    "    # Returns np.ndarray of [i, W, w, e, p, epoch, v]. All angles in RADIANS\n",
    "    # In case of zero inclination W assumed to be zero.\n",
    "    # In case of zero eccentricity w assumed to be zero.\n",
    "    # Calculation are carried out according to Okhotsimsky \"Basics of space flight mechanics\" 1990, p. 122-124\n",
    "    # To do: assess accuracy\n",
    "    R = np.array([x, y, z])\n",
    "    r = R / np.linalg.norm(R)\n",
    "    V = np.array([Vx, Vy, Vz])\n",
    "    \n",
    "    # Area integral\n",
    "    c = np.cross(R, V)\n",
    "    C = np.linalg.norm(c)\n",
    "    c /= C\n",
    "    \n",
    "    # Energy integral\n",
    "    h = np.linalg.norm(V)**2 - 2 * mu / np.linalg.norm(R)\n",
    "    \n",
    "    # Eccentricity\n",
    "    e = np.sqrt(1 + h * C**2 / mu**2)\n",
    "        \n",
    "    # Inclination\n",
    "    i = np.arccos(c[2])\n",
    "    \n",
    "    # Longitude of the ascending node W\n",
    "    # If inclination is almost zero or pi we will assume W = 0\n",
    "    if abs(np.sin(i)) > constants.max_to_zero:\n",
    "        cosW = -c[1]/np.sin(i)\n",
    "        \n",
    "        if cosW > 1 and cosW <= 1 + constants.max_to_zero:\n",
    "            cosW = 1\n",
    "        elif cosW > 1:\n",
    "            cosW = 1\n",
    "            print(\"Error encountered while running: cos(W) is bigger then 1. It have been set zero.\")\n",
    "        \n",
    "        sinW = c[0]/np.sin(i)\n",
    "        buf = np.arccos(cosW)\n",
    "        if sinW >= 0:\n",
    "            W = buf\n",
    "        else:\n",
    "            W = np.pi * 2 - buf\n",
    "    else:\n",
    "        W = 0\n",
    "    \n",
    "    # Focal parameter\n",
    "    p = C**2 / mu\n",
    "    \n",
    "    # True anomaly v\n",
    "    if e > constants.max_to_zero:\n",
    "        Vr = np.dot(V, r)\n",
    "        Vn = np.linalg.norm(V - Vr * r)\n",
    "        sinv = Vr / e * np.sqrt(p / mu)\n",
    "        cosv = (Vn * np.sqrt(p / mu) - 1) / e\n",
    "        \n",
    "        if cosv > 1 and cosv <= 1 + constants.max_to_zero:\n",
    "            cosv = 1\n",
    "        elif cosv > 1:\n",
    "            cosv = 1\n",
    "            print(\"Error encountered while running: cos(v) is bigger then 1. It have been set zero.\")\n",
    "        \n",
    "        if sinv >=0:\n",
    "            v = np.arccos(cosv)\n",
    "        else:\n",
    "            v = 2 * np.pi - np.arccos(cosv)\n",
    "    else:\n",
    "        v = 0\n",
    "        \n",
    "    # Periapsis argument\n",
    "    rW = np.array([np.cos(W), np.sin(W), 0])\n",
    "    cosu = np.dot(rW, r)\n",
    "    \n",
    "    if cosu > 1 and cosu <= 1 + constants.max_to_zero:\n",
    "        cosu = 1\n",
    "    elif cosu > 1:\n",
    "        cosu = 1\n",
    "        print(\"Error encountered while running: cos(u) is bigger then 1. It have been set zero.\")\n",
    "\n",
    "    sinu = np.sign(r[2]) * np.linalg.norm(np.cross(rW, r))\n",
    "    if sinu >=0:\n",
    "        u = np.arccos(cosu)\n",
    "    else:\n",
    "        u = 2 * np.pi - np.arccos(cosu)\n",
    "    w = u - v\n",
    "    \n",
    "    # If e = 0 we will assume w = 0 and v = u\n",
    "    if e <= constants.max_to_zero:\n",
    "        v = u\n",
    "        w = 0\n",
    "        \n",
    "    # Epoch\n",
    "    if e < 1 - constants.max_to_zero:\n",
    "        E = 2 * np.arctan(np.sqrt((1 - e)/(1 + e)) * np.tan(v / 2))\n",
    "        a = p / (1 - e**2)\n",
    "        epoch = t - np.sqrt(a**3 / mu) * (E - e * np.sin(E))\n",
    "    elif e < 1 + constants.max_to_zero and e >= 1 - constants.max_to_zero:\n",
    "        epoch = t - np.sqrt(p**3 / mu) * (np.tan(v/2) + np.tan(v/2)**3 / 3) / 2\n",
    "    else:\n",
    "        H = 2 * np.arctanh(np.sqrt((e - 1) / (e + 1)) * np.tan(v / 2))\n",
    "        a = p / (e**2 - 1)\n",
    "        epoch = t - np.sqrt(a**3 / mu) * (e * np.sinh(H) - H)\n",
    "\n",
    "    return np.array([i, W, w, e, p, epoch, v])"
   ]
  },
  {
   "cell_type": "code",
   "execution_count": 105,
   "metadata": {},
   "outputs": [
    {
     "name": "stdout",
     "output_type": "stream",
     "text": [
      "6104280.0\n"
     ]
    }
   ],
   "source": [
    "i = 85\n",
    "W = 0\n",
    "w = 40\n",
    "e = 0.3\n",
    "a = constants.RE + constants.ISS_periapsis\n",
    "v = 20/180 * np.pi\n",
    "x = Kepler2Cartesian(i/180*np.pi, W/180*np.pi, w/180*np.pi, e, (1 - e**2) * a, v)\n",
    "print(a * (1 - e**2))"
   ]
  },
  {
   "cell_type": "code",
   "execution_count": 116,
   "metadata": {},
   "outputs": [],
   "source": [
    "y = Cartesian2Kepler(*x)"
   ]
  },
  {
   "cell_type": "code",
   "execution_count": 117,
   "metadata": {},
   "outputs": [
    {
     "data": {
      "text/plain": [
       "array([ 3.00000000e-01,  6.10428000e+06, -1.57500352e+02])"
      ]
     },
     "execution_count": 117,
     "metadata": {},
     "output_type": "execute_result"
    }
   ],
   "source": [
    "y[[3, 4, 5]]"
   ]
  },
  {
   "cell_type": "code",
   "execution_count": 118,
   "metadata": {},
   "outputs": [
    {
     "data": {
      "text/plain": [
       "array([85.,  0., 40., 20.])"
      ]
     },
     "execution_count": 118,
     "metadata": {},
     "output_type": "execute_result"
    }
   ],
   "source": [
    "y[[0, 1, 2, -1]]*180/np.pi"
   ]
  },
  {
   "cell_type": "code",
   "execution_count": 128,
   "metadata": {},
   "outputs": [],
   "source": [
    "i = np.arange(0, 181, 1)\n",
    "W = np.arange(0, 361, 1)\n",
    "w = np.arange(0, 361, 1)\n",
    "e = np.array([0, 0.001, 0.1, 0.3, 0.5, 0.7, 0.9, 0.95, 0.99])\n",
    "a = constants.RE + constants.ISS_periapsis\n",
    "v = np.arange(0, 361, 1)"
   ]
  },
  {
   "cell_type": "code",
   "execution_count": null,
   "metadata": {},
   "outputs": [],
   "source": []
  }
 ],
 "metadata": {
  "kernelspec": {
   "display_name": "Python 3",
   "language": "python",
   "name": "python3"
  },
  "language_info": {
   "codemirror_mode": {
    "name": "ipython",
    "version": 3
   },
   "file_extension": ".py",
   "mimetype": "text/x-python",
   "name": "python",
   "nbconvert_exporter": "python",
   "pygments_lexer": "ipython3",
   "version": "3.8.6"
  }
 },
 "nbformat": 4,
 "nbformat_minor": 4
}
