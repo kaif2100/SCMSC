{
 "cells": [
  {
   "cell_type": "code",
   "execution_count": 1,
   "metadata": {},
   "outputs": [],
   "source": [
    "import numpy as np\n",
    "import constants\n",
    "import matplotlib.pyplot as plt"
   ]
  },
  {
   "cell_type": "code",
   "execution_count": 138,
   "metadata": {},
   "outputs": [],
   "source": [
    "def _Newton(e, M, accuracy, initial = 0):\n",
    "    # Solves Kepler equation. Mustn't be called on it's own\n",
    "    # To calculate true/eccentricity anomalies call KeplerSolver\n",
    "    # Returns E or H or v (for elliptic, hyperbolic and parabolic orbits accordingly) in radians\n",
    "    \n",
    "    p2 = 2 * np.pi\n",
    "    # Elliptic orbit\n",
    "    if e < 1 - constants.max_to_zero:\n",
    "        M = np.abs(M) % p2 * np.sign(M)\n",
    "        if M > np.pi:\n",
    "            M = M - p2\n",
    "        elif M < -np.pi:\n",
    "            M = p2 +M\n",
    "        E2 = initial\n",
    "        E1 = 2 * accuracy + E2\n",
    "        while abs(E2 - E1) > accuracy:\n",
    "            E1 = E2\n",
    "            E2 = E1 - (E1 - e * np.sin(E1) - M) / (1 - e * np.cos(E1))\n",
    "        return E2\n",
    "    # Hyperbolic orbit\n",
    "    elif e >= 1 + constants.max_to_zero:\n",
    "        H2 = initial\n",
    "        H1 = 2 * accuracy + H2\n",
    "        while abs(H2 - H1) > accuracy:\n",
    "            H1 = H2\n",
    "            H2 = H1 - (e * np.sinh(H1) - H1 - M) / (e * np.cosh(H1) - 1)\n",
    "        return H2\n",
    "    # Parabolic orbit\n",
    "    else:\n",
    "        # Designate x = tg(v/2), then according ot wolfram aplpha here is an exact real solution\n",
    "        b = np.power(np.sqrt(9 * M**2 + 1) + 3 * M, 1/3)\n",
    "        x = b - 1 / b\n",
    "        return 2 * np.arctan(x)\n",
    "        \n",
    "def KeplerSolver(a, e, t, epoch = 0, M0 = 0, mu = constants.muE, accuracy = constants.max_to_zero):\n",
    "    # e - eccentricity\n",
    "    # a - major semi-axis in meters; If e == 1 (parabolic orbit) a is assumed to be p (focal prarameter)\n",
    "    # t - time at which E is wanted in seconds\n",
    "    # t can be float or iterable array. In case of iterable array it is assumed to be in ascending order\n",
    "    # epoch - time of mesaurments of M0, zero by default\n",
    "    # M0 - mean anomaly (M = M0 + (t - epoch)/T), zero by default\n",
    "    # mu - standart gravitational parameter, Earths by default\n",
    "    # accuracy - accuracy, it is empirically known that accuracy mustn't be bigger 1e-11 otherwise it will give wrong result\n",
    "    # Returns v, E - true and eccentricity anomalies in radians. Can be single values as well as arrays. It depends on t\n",
    "    \n",
    "    \n",
    "    iterable = False\n",
    "    p2 = 2 * np.pi\n",
    "    T = np.sqrt(a**3 / mu) # Actually this is the period/2pi\n",
    "    \n",
    "    # Have to know t is an array or a single value\n",
    "    try:\n",
    "        for i in t:\n",
    "            iterable = True\n",
    "            break\n",
    "    except TypeError:\n",
    "        iterable = False\n",
    "    \n",
    "    # Solving. For an array of times the initial approximation for Newton method is optimized.\n",
    "    if(iterable):\n",
    "        previous = 0\n",
    "        E = []\n",
    "        \n",
    "        for i in t:\n",
    "            M = M0 + (i - epoch) / T\n",
    "            previous = _Newton(e, M , accuracy, previous)\n",
    "            E.append(previous)\n",
    "        E = np.array(E)      \n",
    "    else:\n",
    "        M = M0 + (t - epoch) / T\n",
    "        E = _Newton(e, M, accuracy)\n",
    "\n",
    "    if e < 1 - constants.max_to_zero:\n",
    "        v = 2 * np.arctan(np.sqrt((1 + e)/(1 - e)) * np.tan(E/2))\n",
    "        return v, E\n",
    "    elif e >= 1 + constants.max_to_zero:\n",
    "        v = 2 * np.arctan(np.sqrt((e + 1)/(e - 1)) * np.tanh(E/2))\n",
    "        return v, E\n",
    "    else:\n",
    "        return E, None"
   ]
  },
  {
   "cell_type": "code",
   "execution_count": 175,
   "metadata": {},
   "outputs": [
    {
     "name": "stdout",
     "output_type": "stream",
     "text": [
      "Max error: 1.0325074129013956e-14\n"
     ]
    }
   ],
   "source": [
    "# Test for elliptic\n",
    "p2 = 2 * np.pi\n",
    "e = 0.3\n",
    "a = constants.RE + constants.ISS_periapsis\n",
    "T = np.sqrt(a**3 / constants.muE)\n",
    "t = np.arange(0, (T * p2) * 0.99, 1)\n",
    "v, E = KeplerSolver(a, e, t, accuracy = 1e-6)\n",
    "f = np.abs(t / T) % p2 * np.sign(t / T)\n",
    "for i in range(f.shape[0]):\n",
    "    if f[i] > np.pi:\n",
    "        f[i] = f[i] - p2\n",
    "    elif f[i] < -np.pi:\n",
    "        f[i] = p2 + f[i]\n",
    "print(\"Max error:\", np.max(np.abs(-e * np.sin(E) + E - f)))"
   ]
  },
  {
   "cell_type": "code",
   "execution_count": 176,
   "metadata": {},
   "outputs": [
    {
     "data": {
      "text/plain": [
       "[<matplotlib.lines.Line2D at 0x1cddd8b72e0>]"
      ]
     },
     "execution_count": 176,
     "metadata": {},
     "output_type": "execute_result"
    },
    {
     "data": {
      "image/png": "[encoded data removed]",
      "text/plain": [
       "<Figure size 432x288 with 1 Axes>"
      ]
     },
     "metadata": {
      "needs_background": "light"
     },
     "output_type": "display_data"
    }
   ],
   "source": [
    "r = a * (1 - e**2) / (1 + e * np.cos(v))\n",
    "x = r * np.cos(v)\n",
    "y = r * np.sin(v)\n",
    "plt.plot(x, y, 'o', ms = 0.2)"
   ]
  },
  {
   "cell_type": "code",
   "execution_count": 145,
   "metadata": {},
   "outputs": [
    {
     "data": {
      "text/plain": [
       "4.440892098500626e-16"
      ]
     },
     "execution_count": 145,
     "metadata": {},
     "output_type": "execute_result"
    }
   ],
   "source": [
    "# Test for hyperbolic\n",
    "e = 5\n",
    "a = constants.RE + constants.ISS_periapsis\n",
    "T = np.sqrt(a**3 / constants.muE)\n",
    "t = np.arange(0, T, 1)\n",
    "v, E = KeplerSolver(a, e, t, accuracy = 1e-6)\n",
    "np.max(np.abs(e * np.sinh(E) - E - t / T))"
   ]
  },
  {
   "cell_type": "code",
   "execution_count": 146,
   "metadata": {},
   "outputs": [
    {
     "data": {
      "text/plain": [
       "[<matplotlib.lines.Line2D at 0x1cddd37b6d0>]"
      ]
     },
     "execution_count": 146,
     "metadata": {},
     "output_type": "execute_result"
    },
    {
     "data": {
      "image/png": "[encoded data removed]",
      "text/plain": [
       "<Figure size 432x288 with 1 Axes>"
      ]
     },
     "metadata": {
      "needs_background": "light"
     },
     "output_type": "display_data"
    }
   ],
   "source": [
    "r = a * (e**2 - 1) / (1 + e * np.cos(v))\n",
    "x = r * np.cos(v)\n",
    "y = r * np.sin(v)\n",
    "plt.plot(x, y, 'o', ms = 0.2)"
   ]
  },
  {
   "cell_type": "code",
   "execution_count": 148,
   "metadata": {},
   "outputs": [
    {
     "data": {
      "text/plain": [
       "1.3322676295501878e-15"
      ]
     },
     "execution_count": 148,
     "metadata": {},
     "output_type": "execute_result"
    }
   ],
   "source": [
    "# Test for parabolic\n",
    "e = 1\n",
    "a = constants.RE + constants.ISS_periapsis\n",
    "T = np.sqrt((a/2)**3 / constants.muE)\n",
    "t = np.arange(0, T, 1)\n",
    "v, E = KeplerSolver(a / 2, e, t, accuracy = 1e-6)\n",
    "np.max(np.abs(2 * t / T  - (np.tan(v/2) + np.tan(v/2)**3 / 3)))"
   ]
  },
  {
   "cell_type": "code",
   "execution_count": 149,
   "metadata": {},
   "outputs": [
    {
     "data": {
      "text/plain": [
       "[<matplotlib.lines.Line2D at 0x1cddd3c3940>]"
      ]
     },
     "execution_count": 149,
     "metadata": {},
     "output_type": "execute_result"
    },
    {
     "data": {
      "image/png": "[encoded data removed]",
      "text/plain": [
       "<Figure size 432x288 with 1 Axes>"
      ]
     },
     "metadata": {
      "needs_background": "light"
     },
     "output_type": "display_data"
    }
   ],
   "source": [
    "r = a / 2 / (1 + e * np.cos(v))\n",
    "x = r * np.cos(v)\n",
    "y = r * np.sin(v)\n",
    "plt.plot(x, y, 'o', ms = 0.2)"
   ]
  }
 ],
 "metadata": {
  "kernelspec": {
   "display_name": "Python 3",
   "language": "python",
   "name": "python3"
  },
  "language_info": {
   "codemirror_mode": {
    "name": "ipython",
    "version": 3
   },
   "file_extension": ".py",
   "mimetype": "text/x-python",
   "name": "python",
   "nbconvert_exporter": "python",
   "pygments_lexer": "ipython3",
   "version": "3.8.5"
  }
 },
 "nbformat": 4,
 "nbformat_minor": 4
}